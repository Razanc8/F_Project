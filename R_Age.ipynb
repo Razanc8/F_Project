{
 "cells": [
  {
   "cell_type": "code",
   "execution_count": 32,
   "id": "61ca6134",
   "metadata": {},
   "outputs": [
    {
     "name": "stdout",
     "output_type": "stream",
     "text": [
      "العمر:30\n",
      "ايام: 21900 اسابيع: 3120 شهور: 720 سنين: 60\n"
     ]
    }
   ],
   "source": [
    "def cal(MyAge):\n",
    "    Remaining = 90 - MyAge\n",
    "    Days = Remaining * 365\n",
    "    Weeks = Remaining * 52\n",
    "    Months = Remaining * 12\n",
    "    return Days, Weeks, Months, Remaining\n",
    "\n",
    "MyAge = int(input(\"العمر:\"))\n",
    "\n",
    "Days, Weeks, Months, Remaining = cal(MyAge)\n",
    "\n",
    "print(\"ايام:\", Days , \"اسابيع:\", Weeks ,\"شهور:\", Months , \"سنين:\", Remaining)\n"
   ]
  },
  {
   "cell_type": "code",
   "execution_count": null,
   "id": "c50e2268",
   "metadata": {},
   "outputs": [],
   "source": []
  }
 ],
 "metadata": {
  "kernelspec": {
   "display_name": "Python 3 (ipykernel)",
   "language": "python",
   "name": "python3"
  },
  "language_info": {
   "codemirror_mode": {
    "name": "ipython",
    "version": 3
   },
   "file_extension": ".py",
   "mimetype": "text/x-python",
   "name": "python",
   "nbconvert_exporter": "python",
   "pygments_lexer": "ipython3",
   "version": "3.10.9"
  }
 },
 "nbformat": 4,
 "nbformat_minor": 5
}
