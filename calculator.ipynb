{
 "cells": [
  {
   "cell_type": "code",
   "execution_count": 12,
   "id": "3180592f",
   "metadata": {},
   "outputs": [
    {
     "name": "stdout",
     "output_type": "stream",
     "text": [
      "first number: 100\n",
      " second number: 30\n",
      "the operations:\n",
      "1. Add\n",
      "2. Subtract\n",
      "3. Multiply\n",
      "4. Divide\n",
      "Choice the operation 3\n",
      "multiply:  100.0  *  30.0  =  3000.0\n"
     ]
    }
   ],
   "source": [
    "def add(num1, num2):\n",
    "    return num1 + num2\n",
    "\n",
    "def subtract(num1, num2):\n",
    "    return num1 - num2\n",
    "\n",
    "def multiply(num1, num2):\n",
    "    return num1 * num2\n",
    "\n",
    "def divide(num1, num2):\n",
    "    if num2 != 0:\n",
    "        return num1 / num2\n",
    "    else:\n",
    "        return \"not valid.\"\n",
    "\n",
    "def cal():\n",
    "    num1 = float(input(\"first number: \"))\n",
    "    num2 = float(input(\" second number: \"))\n",
    "\n",
    "    print(\"the operations:\")\n",
    "    print(\"1. Add\")\n",
    "    print(\"2. Subtract\")\n",
    "    print(\"3. Multiply\")\n",
    "    print(\"4. Divide\")\n",
    "\n",
    "    s1 = input(\"Choice the operation \")\n",
    "\n",
    "    if s1 == '1':\n",
    "        result = add(num1, num2)\n",
    "        print(\"result:\", num1 ,\" + \", num2,\" = \", result)\n",
    "    elif s1 == '2':\n",
    "        result = subtract(num1, num2)\n",
    "        print(\"result:\", num1 ,\" - \", num2,\" = \", result)\n",
    "    elif s1 == '3':\n",
    "        result = multiply(num1, num2)\n",
    "        print(\"multiply: \", num1 ,\" * \", num2,\" = \", result)\n",
    "    elif s1 == '4':\n",
    "        result = divide(num1, num2)\n",
    "        print(\"result:\", num1 ,\" / \", num2,\" = \", result)\n",
    "    else:\n",
    "        print(\"Not valid\")\n",
    "\n",
    "cal()"
   ]
  }
 ],
 "metadata": {
  "kernelspec": {
   "display_name": "Python 3 (ipykernel)",
   "language": "python",
   "name": "python3"
  },
  "language_info": {
   "codemirror_mode": {
    "name": "ipython",
    "version": 3
   },
   "file_extension": ".py",
   "mimetype": "text/x-python",
   "name": "python",
   "nbconvert_exporter": "python",
   "pygments_lexer": "ipython3",
   "version": "3.10.9"
  }
 },
 "nbformat": 4,
 "nbformat_minor": 5
}
